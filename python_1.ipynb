{
 "cells": [
  {
   "cell_type": "markdown",
   "id": "7f35d8ff-66d8-4ee9-9bbe-ddc5bd0b71df",
   "metadata": {},
   "source": [
    "## 1 - Number Types "
   ]
  },
  {
   "cell_type": "markdown",
   "id": "83c6a744-a030-4d18-b7fb-de9cf549ca33",
   "metadata": {},
   "source": [
    "### 1.1 Innteger"
   ]
  },
  {
   "cell_type": "code",
   "execution_count": 1,
   "id": "2608cf1e-9bfe-4729-88d9-a92b9634c023",
   "metadata": {},
   "outputs": [
    {
     "name": "stdout",
     "output_type": "stream",
     "text": [
      "num1: 5 <class 'int'>\n",
      "num2: -7 <class 'int'>\n",
      "num3: 0 <class 'int'>\n"
     ]
    }
   ],
   "source": [
    "num1 = 5\n",
    "num2 = -7\n",
    "num3 = 0\n",
    "\n",
    "print(\"num1:\",num1, type(num1))\n",
    "print(\"num2:\",num2, type(num2))\n",
    "print(\"num3:\",num3, type(num3))"
   ]
  },
  {
   "cell_type": "markdown",
   "id": "62532a72-7f59-4a94-86d0-cd585db65267",
   "metadata": {},
   "source": [
    "### 1.2 Floats"
   ]
  },
  {
   "cell_type": "code",
   "execution_count": 2,
   "id": "fa2ffaf0-6d59-4a61-a2bd-a6e344c98f2c",
   "metadata": {},
   "outputs": [
    {
     "name": "stdout",
     "output_type": "stream",
     "text": [
      "pi: 5.4323001 <class 'float'>\n",
      "small_float: -0.001 <class 'float'>\n",
      "exp_float: 150.0 <class 'float'>\n"
     ]
    }
   ],
   "source": [
    "pi = 5.4323001\n",
    "small_float = -0.001\n",
    "exp_float = 1.5e2 #150.0 in decimal \n",
    "\n",
    "\n",
    "print(\"pi:\",pi,type(pi))\n",
    "print(\"small_float:\",small_float,type(small_float))\n",
    "print(\"exp_float:\",exp_float,type(exp_float))"
   ]
  },
  {
   "cell_type": "markdown",
   "id": "887902c3-f14c-4994-a57b-b56456250089",
   "metadata": {},
   "source": [
    "### 1.3 String"
   ]
  },
  {
   "cell_type": "code",
   "execution_count": 3,
   "id": "6086e986-24c0-4d7e-a582-dbef9fccdecf",
   "metadata": {},
   "outputs": [
    {
     "name": "stdout",
     "output_type": "stream",
     "text": [
      "greeting: Hello Python <class 'str'>\n",
      "quote: I can also use single quote <class 'str'>\n",
      "multiline_text: This is a multi_line string <class 'str'>\n"
     ]
    }
   ],
   "source": [
    "greeting = \"Hello Python\"\n",
    "quote = 'I can also use single quote'\n",
    "multiline_text = \"\"\"This is a multi_line string\"\"\"\n",
    "\n",
    "print(\"greeting:\",greeting,type(greeting))\n",
    "print(\"quote:\",quote,type(quote))\n",
    "print(\"multiline_text:\",multiline_text,type(multiline_text))"
   ]
  },
  {
   "cell_type": "markdown",
   "id": "ed64a4fc-579a-4c64-b429-0caa0d3f4e41",
   "metadata": {},
   "source": [
    "### String Operatinos"
   ]
  },
  {
   "cell_type": "code",
   "execution_count": 4,
   "id": "1c45a979-7032-4216-a90f-b8208a0cc88c",
   "metadata": {},
   "outputs": [
    {
     "name": "stdout",
     "output_type": "stream",
     "text": [
      "full_name: Noor Ul Huda <class 'str'>\n"
     ]
    }
   ],
   "source": [
    "# Concatenation\n",
    "first_name = \"Noor Ul\"\n",
    "last_name = \"Huda\"\n",
    "\n",
    "full_name = first_name + \" \" + last_name \n",
    "print(\"full_name:\",full_name, type(full_name))"
   ]
  },
  {
   "cell_type": "code",
   "execution_count": 5,
   "id": "e6187ee9-ef45-4a23-8c02-67ee5e2b7413",
   "metadata": {},
   "outputs": [
    {
     "name": "stdout",
     "output_type": "stream",
     "text": [
      "repetation: hudahudahuda <class 'str'>\n"
     ]
    }
   ],
   "source": [
    "# Repetation\n",
    "huda_3times = \"huda\" * 3\n",
    "print(\"repetation:\", huda_3times, type(huda_3times))"
   ]
  },
  {
   "cell_type": "code",
   "execution_count": 6,
   "id": "4e6871bb-2329-4311-9b5b-7c6f49b71151",
   "metadata": {},
   "outputs": [
    {
     "name": "stdout",
     "output_type": "stream",
     "text": [
      "substracting: Hello <class 'str'>\n"
     ]
    }
   ],
   "source": [
    "# Indexing and Sclicing\n",
    "\n",
    "first_char = greeting[0]\n",
    "substracting = greeting[0:5]\n",
    "\n",
    "print(\"substracting:\",substracting, type(substracting))"
   ]
  },
  {
   "cell_type": "code",
   "execution_count": 7,
   "id": "c1cfaf0c-31c6-4d84-8ff0-0e29b55856dc",
   "metadata": {},
   "outputs": [
    {
     "name": "stdout",
     "output_type": "stream",
     "text": [
      "Empty List: []\n",
      "Numbers [10, 20, 30, 40]\n",
      "Mixed List: ['Hello', 3.14, True, 5]\n"
     ]
    }
   ],
   "source": [
    "empty_list = []\n",
    "numbers = [10,20,30,40]\n",
    "mixed_list = [\"Hello\", 3.14, True, 5]\n",
    "\n",
    "print(\"Empty List:\", empty_list)\n",
    "print(\"Numbers\", numbers)\n",
    "print(\"Mixed List:\", mixed_list)"
   ]
  },
  {
   "cell_type": "code",
   "execution_count": 8,
   "id": "08ee0ebe-e724-4c74-81a1-b14ebbbe8865",
   "metadata": {},
   "outputs": [
    {
     "name": "stdout",
     "output_type": "stream",
     "text": [
      "First Number: 10\n",
      "Last Number: 10\n",
      "Last Number: 20\n"
     ]
    }
   ],
   "source": [
    "first_num = numbers[0]\n",
    "last_num = numbers[-4]\n",
    "last_num1 = numbers[-3]\n",
    "\n",
    "print(\"First Number:\", first_num)\n",
    "print(\"Last Number:\", last_num)\n",
    "print(\"Last Number:\", last_num1)"
   ]
  },
  {
   "cell_type": "markdown",
   "id": "3d96ef18-92bc-4a8e-b0d4-cc1362eeeac7",
   "metadata": {},
   "source": [
    "### f-strings"
   ]
  },
  {
   "cell_type": "markdown",
   "id": "dfdf8bc5-334e-4b50-a582-70c283e8a42d",
   "metadata": {},
   "source": [
    "Formatted string is introduced in (python 3.6+)"
   ]
  },
  {
   "cell_type": "code",
   "execution_count": 9,
   "id": "172fa667-d4be-462b-a9e6-f5d81b4dad3f",
   "metadata": {},
   "outputs": [
    {
     "name": "stdout",
     "output_type": "stream",
     "text": [
      "My name is Noor Ul Huda and I'm 20 years old.\n"
     ]
    }
   ],
   "source": [
    "# Example \n",
    "name = \"Noor Ul Huda\"\n",
    "age = 20\n",
    "print(f\"My name is {name} and I'm {age} years old.\")"
   ]
  },
  {
   "cell_type": "code",
   "execution_count": 10,
   "id": "7c83c287-fce0-4ca6-9fb0-7b40ac6ab53b",
   "metadata": {},
   "outputs": [
    {
     "name": "stdout",
     "output_type": "stream",
     "text": [
      "Next Year, I will be 21\n"
     ]
    }
   ],
   "source": [
    "print(F\"Next Year, I will be {age + 1}\") # We can use f or F"
   ]
  },
  {
   "cell_type": "markdown",
   "id": "92ea9f7e-db0a-40ff-869e-a0d4f516bcd1",
   "metadata": {},
   "source": [
    "#### Key Points"
   ]
  },
  {
   "cell_type": "markdown",
   "id": "572c1746-6ae8-4ca5-b1f2-5c68869353ed",
   "metadata": {},
   "source": [
    "- f-string start with f or F.\n",
    "- Use variables and expressions in {curly bracket}.\n",
    "- We can also add calculations of variables in {}."
   ]
  },
  {
   "cell_type": "markdown",
   "id": "bc696cf7-d97d-4950-ba99-411bd1006ea1",
   "metadata": {},
   "source": [
    "### 1.4 Boolen"
   ]
  },
  {
   "cell_type": "code",
   "execution_count": 11,
   "id": "d306cec6-0b34-4298-b547-86c5882f0c23",
   "metadata": {},
   "outputs": [
    {
     "name": "stdout",
     "output_type": "stream",
     "text": [
      "Is Python easy?: True <class 'bool'>\n",
      "Like Tea? False <class 'bool'>\n"
     ]
    }
   ],
   "source": [
    "is_python_easy = True\n",
    "like_tea = False\n",
    "\n",
    "print(\"Is Python easy?:\",is_python_easy, type(is_python_easy))\n",
    "print(\"Like Tea?\", like_tea, type(like_tea))"
   ]
  },
  {
   "cell_type": "code",
   "execution_count": 12,
   "id": "9bcb80d1-0740-4b80-a369-8ea1d880b7bb",
   "metadata": {},
   "outputs": [
    {
     "name": "stdout",
     "output_type": "stream",
     "text": [
      "Yes, Python is easy\n"
     ]
    }
   ],
   "source": [
    "# instead of if_is_python_easy == True:\n",
    "# DO this!\n",
    "if is_python_easy: \n",
    "    print(\"Yes, Python is easy\") # if this contains TRUE, so the condition will print, \n",
    "                                # and if it's FALSE, this condition will not print. "
   ]
  },
  {
   "cell_type": "markdown",
   "id": "5739d8a5-4910-4a46-9d7f-9454a1468947",
   "metadata": {},
   "source": [
    "keep boolen numbers purely boolen. Although TRUE behaves like 1 and FALSE like 0, but it makes codes less \n",
    "less clear."
   ]
  },
  {
   "cell_type": "markdown",
   "id": "c68a45f1-423a-44ad-930b-f43dbab29e42",
   "metadata": {},
   "source": [
    "### 1.5 Non-Type"
   ]
  },
  {
   "cell_type": "code",
   "execution_count": 13,
   "id": "7460a24e-5ae8-4a22-a998-a6460bef6bda",
   "metadata": {},
   "outputs": [
    {
     "name": "stdout",
     "output_type": "stream",
     "text": [
      "Nothing_here: None <class 'NoneType'>\n"
     ]
    }
   ],
   "source": [
    "Nothing_here = None\n",
    "print(\"Nothing_here:\",Nothing_here,type(Nothing_here))"
   ]
  },
  {
   "cell_type": "code",
   "execution_count": 14,
   "id": "587e311e-cc25-49d0-9ef3-98416e0d8a3e",
   "metadata": {},
   "outputs": [
    {
     "name": "stdout",
     "output_type": "stream",
     "text": [
      "This variable has no value.\n"
     ]
    }
   ],
   "source": [
    "if Nothing_here is None:\n",
    "    print(\"This variable has no value.\")"
   ]
  },
  {
   "cell_type": "code",
   "execution_count": 15,
   "id": "1c14e21e-41b3-41e6-9ee6-f5f1f520a198",
   "metadata": {},
   "outputs": [
    {
     "name": "stdout",
     "output_type": "stream",
     "text": [
      "This variable has no value.\n"
     ]
    }
   ],
   "source": [
    "if Nothing_here is None:\n",
    "    print(\"This variable has no value.\")"
   ]
  },
  {
   "cell_type": "markdown",
   "id": "0be2c99f-ce9f-46bc-aab8-55952cd2546e",
   "metadata": {},
   "source": [
    "## Collections"
   ]
  },
  {
   "cell_type": "markdown",
   "id": "26787dfa-51cf-432d-ad1d-4c7c8b3e83a6",
   "metadata": {},
   "source": [
    "### 1- List"
   ]
  },
  {
   "cell_type": "code",
   "execution_count": 16,
   "id": "c2b837bc-1fd5-4d43-b082-772785a1fdc5",
   "metadata": {},
   "outputs": [
    {
     "name": "stdout",
     "output_type": "stream",
     "text": [
      "empty_list [] <class 'list'>\n",
      "numbers_list [20, 30, 40, 50] <class 'list'>\n",
      "mixed_list [20, 50.7, 'Hello!', True] <class 'list'>\n"
     ]
    }
   ],
   "source": [
    "# creating variables from different ways\n",
    "empty_list = []\n",
    "numbers_list = [20, 30, 40, 50]\n",
    "mixed_list = [20, 50.7, \"Hello!\", True]\n",
    "\n",
    "print(\"empty_list\", empty_list, type(empty_list))\n",
    "print(\"numbers_list\", numbers_list, type(numbers_list))\n",
    "print(\"mixed_list\", mixed_list, type(mixed_list))"
   ]
  },
  {
   "cell_type": "code",
   "execution_count": 17,
   "id": "e53e7079-851f-4298-930b-338f9ba596a4",
   "metadata": {},
   "outputs": [
    {
     "name": "stdout",
     "output_type": "stream",
     "text": [
      "first_num: Hello! <class 'str'>\n",
      "last_num: 20 <class 'int'>\n"
     ]
    }
   ],
   "source": [
    "# acessing values from index\n",
    "first_num = mixed_list[2]\n",
    "last_num = mixed_list[-4]\n",
    "\n",
    "print(\"first_num:\",first_num,type(first_num))\n",
    "print(\"last_num:\",last_num,type(last_num))"
   ]
  },
  {
   "cell_type": "markdown",
   "id": "a7542de9-06fc-43bf-9e84-3b0ec81fae61",
   "metadata": {},
   "source": [
    "#### Adding, Removing and Modifying Elements "
   ]
  },
  {
   "cell_type": "code",
   "execution_count": 18,
   "id": "ca7db6b9-047d-41a7-b348-e0174e426c7e",
   "metadata": {},
   "outputs": [],
   "source": [
    "# Adding Elements\n",
    "\n",
    "numbers_list.append(50) #to add value in the end of list\n",
    "numbers_list.insert(3, 15) #insert 15 at 2nd index"
   ]
  },
  {
   "cell_type": "code",
   "execution_count": 19,
   "id": "8b3a88cb-1445-4779-9372-a212c79faf12",
   "metadata": {},
   "outputs": [
    {
     "name": "stdout",
     "output_type": "stream",
     "text": [
      "[20, 30, 40, 15, 50, 50]\n"
     ]
    }
   ],
   "source": [
    "print(numbers_list)"
   ]
  },
  {
   "cell_type": "code",
   "execution_count": 20,
   "id": "050bac62-d9e8-41ea-a69a-59ff64221cb1",
   "metadata": {},
   "outputs": [
    {
     "name": "stdout",
     "output_type": "stream",
     "text": [
      "[20, 30, 40, 15, 50]\n"
     ]
    }
   ],
   "source": [
    "removed_items = numbers_list.pop() # to remove the last number from the list.\n",
    "print(numbers_list)"
   ]
  },
  {
   "cell_type": "code",
   "execution_count": 21,
   "id": "f4a2cebe-b891-4eb9-9608-8e556823b287",
   "metadata": {},
   "outputs": [
    {
     "data": {
      "text/plain": [
       "[20, 30, 15, 50]"
      ]
     },
     "execution_count": 21,
     "metadata": {},
     "output_type": "execute_result"
    }
   ],
   "source": [
    "numbers_list.remove(40) # to remove the vaue by direct number.\n",
    "numbers_list"
   ]
  },
  {
   "cell_type": "code",
   "execution_count": 22,
   "id": "a61a9f7e-1eb8-4e6f-a47e-0df20cc1a07c",
   "metadata": {},
   "outputs": [
    {
     "data": {
      "text/plain": [
       "[20, 25, 15, 50]"
      ]
     },
     "execution_count": 22,
     "metadata": {},
     "output_type": "execute_result"
    }
   ],
   "source": [
    "numbers_list[1] = 25 #add  element of 25 at index 1.\n",
    "numbers_list"
   ]
  },
  {
   "cell_type": "markdown",
   "id": "e53bb773-7a46-4624-a467-e04d80f3761e",
   "metadata": {},
   "source": [
    "### 2- Tuple"
   ]
  },
  {
   "cell_type": "code",
   "execution_count": 25,
   "id": "37288d5b-95e1-4bd7-9a95-39e2a71344ca",
   "metadata": {},
   "outputs": [
    {
     "name": "stdout",
     "output_type": "stream",
     "text": [
      "empty_list_tuple: ()\n",
      "single_element_tuple: (42,)\n",
      "mixed_element_tuple: ('Huda', 4.5, 10, True)\n"
     ]
    }
   ],
   "source": [
    "# creating Tuple\n",
    "empty_list_tuple = ()\n",
    "single_element_tuple = (42,)\n",
    "mixed_element_tuple = (\"Huda\",4.5,10,True)\n",
    "\n",
    "print(\"empty_list_tuple:\",empty_list_tuple)\n",
    "print(\"single_element_tuple:\",single_element_tuple)\n",
    "print(\"mixed_element_tuple:\",mixed_element_tuple)"
   ]
  },
  {
   "cell_type": "code",
   "execution_count": 27,
   "id": "8b249a08-768b-46dc-a6d3-f281a5519e0a",
   "metadata": {},
   "outputs": [
    {
     "name": "stdout",
     "output_type": "stream",
     "text": [
      "1\n"
     ]
    }
   ],
   "source": [
    "# accessing elements by tuple\n",
    "numbers_tuple = (1, 2, 45, 55, 65, 75)\n",
    "first_num = numbers_tuple[0]\n",
    "print(first_num)"
   ]
  },
  {
   "cell_type": "code",
   "execution_count": 28,
   "id": "be9e743c-8c52-4c4b-8cc1-f7d3a079bfb3",
   "metadata": {},
   "outputs": [
    {
     "name": "stdout",
     "output_type": "stream",
     "text": [
      "numbers_tuple: (1, 2, 45, 55, 65, 75)\n"
     ]
    }
   ],
   "source": [
    "# Slicing Work similarly to list\n",
    "sub_tuple = numbers_tuple[1:]\n",
    "print(\"numbers_tuple:\",numbers_tuple)"
   ]
  },
  {
   "cell_type": "markdown",
   "id": "2f3e058d-e1b1-4fbf-8c45-0e38341f2fef",
   "metadata": {},
   "source": [
    "#### Immutability"
   ]
  },
  {
   "cell_type": "code",
   "execution_count": 29,
   "id": "66ad1052-17ca-42b4-815f-1dced00140bf",
   "metadata": {},
   "outputs": [
    {
     "name": "stdout",
     "output_type": "stream",
     "text": [
      "Error 'tuple' object does not support item assignment\n"
     ]
    }
   ],
   "source": [
    "# try to modity a tuple will raise an error.\n",
    "try:\n",
    "    numbers_tuple[1] = 99\n",
    "except TypeError as e:\n",
    "    print(\"Error\",e)"
   ]
  },
  {
   "cell_type": "code",
   "execution_count": 30,
   "id": "c02ee700-5cea-4882-9725-65ad31e54f1f",
   "metadata": {},
   "outputs": [
    {
     "name": "stdout",
     "output_type": "stream",
     "text": [
      "Name: Noor Ul Huda\n",
      "Age: 30\n",
      "Job: SEO Executive\n"
     ]
    }
   ],
   "source": [
    "# Unpacking a tuple into seprate variables.\n",
    "person_tuple = (\"Noor\", 30, \"SEO Executive\")\n",
    "Name, Age, Job = person_tuple\n",
    "\n",
    "print(\"Name:\", name)\n",
    "print(\"Age:\", Age)\n",
    "print(\"Job:\", Job)"
   ]
  },
  {
   "cell_type": "markdown",
   "id": "46f1bd9b-45cb-49a0-bceb-a601375e546a",
   "metadata": {},
   "source": [
    "### 3- Dictionary"
   ]
  },
  {
   "cell_type": "code",
   "execution_count": 87,
   "id": "53c5f859-a9d9-4ec4-9474-991d87b07b0a",
   "metadata": {},
   "outputs": [
    {
     "name": "stdout",
     "output_type": "stream",
     "text": [
      "empty_dict: {}\n",
      "personal_dict: {'Name': 'Alice', 'Father Name': 'Shafaqat Ali', 'Age': 30}\n",
      "another_dict: {'City': 'New Jesary', 'Country': 'USA'}\n"
     ]
    }
   ],
   "source": [
    "# basic operations \n",
    "empty_dict = {}\n",
    "personal_dict = {\"Name\":\"Alice\", \"Father Name\" : \"Shafaqat Ali\", \"Age\":30}\n",
    "another_dict = dict(City=\"New Jesary\", Country=\"USA\")\n",
    "\n",
    "print(\"empty_dict:\", empty_dict)\n",
    "print(\"personal_dict:\", personal_dict)\n",
    "print(\"another_dict:\", another_dict)"
   ]
  },
  {
   "cell_type": "code",
   "execution_count": 81,
   "id": "9433fb50-2b0a-4bf9-9c5c-5523f4be3583",
   "metadata": {},
   "outputs": [
    {
     "name": "stdout",
     "output_type": "stream",
     "text": [
      "Alice\n"
     ]
    }
   ],
   "source": [
    "# accessing values by keys\n",
    "print(personal_dict[\"Name\"])"
   ]
  },
  {
   "cell_type": "code",
   "execution_count": 82,
   "id": "a0c1e689-bf5d-483e-a47f-66c9559d0890",
   "metadata": {},
   "outputs": [
    {
     "name": "stdout",
     "output_type": "stream",
     "text": [
      "Age: 30\n"
     ]
    }
   ],
   "source": [
    "# .get function\n",
    "print(\"Age:\", personal_dict.get(\"Age\"))   # this function is safer because if there is no value so it returns none. It's better for error/ code handling."
   ]
  },
  {
   "cell_type": "code",
   "execution_count": 83,
   "id": "740c2c86-26a1-443c-b1f2-5d5802586d1a",
   "metadata": {},
   "outputs": [
    {
     "name": "stdout",
     "output_type": "stream",
     "text": [
      "Father Name: Shafaqat Ali\n"
     ]
    }
   ],
   "source": [
    "print(\"Father Name:\", personal_dict.get(\"Father Name\"))"
   ]
  },
  {
   "cell_type": "code",
   "execution_count": 84,
   "id": "1ad81660-d196-4977-bbd1-13d4904a1b3d",
   "metadata": {},
   "outputs": [
    {
     "name": "stdout",
     "output_type": "stream",
     "text": [
      "{'Name': 'Alice', 'Father Name': 'Shafaqat Ali', 'Age': 30, 'Specialization': 'Digital Marketing'}\n"
     ]
    }
   ],
   "source": [
    "# adding and updating key_value_pair\n",
    "personal_dict[\"Specialization\"] = (\"Digital Marketing\")\n",
    "print(personal_dict)"
   ]
  },
  {
   "cell_type": "code",
   "execution_count": 88,
   "id": "59bd52eb-2375-48ae-9c1a-e7fb1cb922c9",
   "metadata": {},
   "outputs": [
    {
     "name": "stdout",
     "output_type": "stream",
     "text": [
      "removed_value: 30\n"
     ]
    }
   ],
   "source": [
    "# removing key_pair\n",
    "removed_value = personal_dict.pop(\"Age\")\n",
    "print(\"removed_value:\", removed_value)\n",
    "#print(personal_dict)\n",
    "\n",
    "# checking if a key exist \n",
    "if Name in personal_dict:\n",
    "    print(\"Name key is present.\")"
   ]
  },
  {
   "cell_type": "markdown",
   "id": "02d503d1-babf-4b3a-a1bc-e2c36bed7f9d",
   "metadata": {},
   "source": [
    "### 4- Set"
   ]
  },
  {
   "cell_type": "code",
   "execution_count": 93,
   "id": "0a767f5a-a7e0-46d4-8e2f-d6635c45cf5d",
   "metadata": {},
   "outputs": [
    {
     "name": "stdout",
     "output_type": "stream",
     "text": [
      "Emppty_Set set() <class 'set'>\n",
      "Numbers_set {20, 21, 22, 23} <class 'set'>\n",
      "Mixed_set {'Yoyo', 'apple', 54, 44} <class 'set'>\n"
     ]
    }
   ],
   "source": [
    "# creating set\n",
    "emppty_set = set()\n",
    "numbers_set = {20, 21, 23, 22, 23, 20}\n",
    "mixed_set = {'apple', 44, 'Yoyo', 54, 44}\n",
    "\n",
    "print(\"Emppty_Set\",emppty_set, type(emppty_set))\n",
    "print(\"Numbers_set\",numbers_set, type(numbers_set))\n",
    "print(\"Mixed_set\",mixed_set, type(mixed_set))"
   ]
  },
  {
   "cell_type": "code",
   "execution_count": 95,
   "id": "01aee5b1-7fc0-4aab-b3f8-b9326c053e0b",
   "metadata": {},
   "outputs": [
    {
     "name": "stdout",
     "output_type": "stream",
     "text": [
      "Updated Set: {2, 21, 22, 23}\n"
     ]
    }
   ],
   "source": [
    "# adding and removing values\n",
    "\n",
    "numbers_set.add(2) # for adding 2 in the set\n",
    "numbers_set.discard(20) # for removing specific value from the set.\n",
    "\n",
    "print(\"Updated Set:\", numbers_set)"
   ]
  },
  {
   "cell_type": "markdown",
   "id": "ca77daa4-16fb-4433-b453-ca1b408a7c04",
   "metadata": {},
   "source": [
    "Set also support some mathamatical operations like union, intersention, difference and symmetric. "
   ]
  },
  {
   "cell_type": "code",
   "execution_count": 100,
   "id": "5827f947-5539-478f-94aa-f222d5808321",
   "metadata": {},
   "outputs": [
    {
     "name": "stdout",
     "output_type": "stream",
     "text": [
      "Union: {1, 2, 3, 4, 5, 6, 7, 8, 10, 11}\n",
      "Intersection: set()\n",
      "Difference: {2, 4, 6, 8, 10}\n",
      "Symmetric: {1, 2, 3, 4, 5, 6, 7, 8, 10, 11}\n"
     ]
    }
   ],
   "source": [
    "set_a = {2, 4, 6, 8, 10}\n",
    "set_b = {1, 3, 5, 7, 11}\n",
    "\n",
    "Union = set_a.union(set_b)\n",
    "Intersection = set_a.intersection(set_b)\n",
    "Difference = set_a.difference(set_b)\n",
    "Symmetric = set_a.symmetric_difference(set_b)\n",
    "\n",
    "\n",
    "print(\"Union:\", Union)\n",
    "print(\"Intersection:\", Intersection)\n",
    "print(\"Difference:\", Difference)\n",
    "print(\"Symmetric:\", Symmetric)"
   ]
  },
  {
   "cell_type": "code",
   "execution_count": null,
   "id": "0921c427-94f3-44d4-9e05-fd1014a50030",
   "metadata": {},
   "outputs": [],
   "source": []
  }
 ],
 "metadata": {
  "kernelspec": {
   "display_name": "Python 3 (ipykernel)",
   "language": "python",
   "name": "python3"
  },
  "language_info": {
   "codemirror_mode": {
    "name": "ipython",
    "version": 3
   },
   "file_extension": ".py",
   "mimetype": "text/x-python",
   "name": "python",
   "nbconvert_exporter": "python",
   "pygments_lexer": "ipython3",
   "version": "3.11.7"
  }
 },
 "nbformat": 4,
 "nbformat_minor": 5
}
