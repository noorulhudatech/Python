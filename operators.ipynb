{
 "cells": [
  {
   "cell_type": "markdown",
   "id": "9fa9ac19",
   "metadata": {},
   "source": [
    "### Types Of Operators"
   ]
  },
  {
   "cell_type": "markdown",
   "id": "cd4a6b2b",
   "metadata": {},
   "source": [
    "##### 1- Assignment Operator"
   ]
  },
  {
   "cell_type": "markdown",
   "id": "354c01e9",
   "metadata": {},
   "source": [
    "- Basic Assignment  \n",
    "\n",
    "= assign a value to the operator.\n",
    "\n",
    "- Compound Assignment\n",
    "\n",
    "+= add amd assign \n",
    "-= substract and assign\n",
    "*= multiply and assign\n",
    "/= divide and assign \n",
    "//= floor devision and assign\n",
    "%= modulus and assign\n",
    "**= exponentiate and assign \n",
    "^= bitwise ROX and assign\n",
    ">>= bitwise right shift and assign\n",
    "<<= bitwise left shift and assign\n",
    "\n",
    "\n",
    "Assignment operators are used to assign values to variables. For Example, = assign a value, while += add and assign."
   ]
  },
  {
   "cell_type": "code",
   "execution_count": 18,
   "id": "502e3b71",
   "metadata": {},
   "outputs": [
    {
     "name": "stdout",
     "output_type": "stream",
     "text": [
      "x: 8\n"
     ]
    }
   ],
   "source": [
    "# Example of Assignment Operator\n",
    "x = 5   #assigning value\n",
    "x += 3  #equivalant to x = x + 3\n",
    "print(\"x:\", x)"
   ]
  },
  {
   "cell_type": "markdown",
   "id": "3c8dbde2",
   "metadata": {},
   "source": [
    "##### 2- Arithmetic Operators"
   ]
  },
  {
   "cell_type": "code",
   "execution_count": 19,
   "id": "7a774e0c",
   "metadata": {},
   "outputs": [
    {
     "name": "stdout",
     "output_type": "stream",
     "text": [
      "a + b = 13\n",
      "a - b = 7\n",
      "a * b = 30\n",
      "a / b = 3.3333333333333335\n",
      "a % b = 1\n",
      "a // b = 3\n",
      "a ** b = 1000\n"
     ]
    }
   ],
   "source": [
    "a = 10\n",
    "b = 3\n",
    "\n",
    "print(\"a + b =\", a + b) #addition\n",
    "print(\"a - b =\", a - b) #substraction\n",
    "print(\"a * b =\", a * b) #multiplication\n",
    "print(\"a / b =\", a / b) #division\n",
    "print(\"a % b =\", a % b) #modulus = reminder of division\n",
    "print(\"a // b =\", a // b) #floor division means you will get answer in integer , not in float.\n",
    "print(\"a ** b =\", a ** b) #exponentiation = power \n"
   ]
  },
  {
   "cell_type": "markdown",
   "id": "a9c445c5",
   "metadata": {},
   "source": [
    "##### 3- Comparison Operator"
   ]
  },
  {
   "cell_type": "markdown",
   "id": "9a64fd1c",
   "metadata": {},
   "source": [
    "Comparison operations compare values and return True and False."
   ]
  },
  {
   "cell_type": "markdown",
   "id": "08ef92e7",
   "metadata": {},
   "source": [
    "> greater than\n",
    "< less than\n",
    "== equals to\n",
    "!= not equals to\n",
    ">= greater than or equals to \n",
    "<= less than or equals to"
   ]
  },
  {
   "cell_type": "code",
   "execution_count": 12,
   "id": "3a757c80",
   "metadata": {},
   "outputs": [
    {
     "name": "stdout",
     "output_type": "stream",
     "text": [
      "x > y: False\n",
      "x < y: True\n",
      "x != y: True\n",
      "x >= y: False\n",
      "x <= y: True\n"
     ]
    }
   ],
   "source": [
    "x = 5\n",
    "y = 10\n",
    "\n",
    "print(\"x > y:\", x > y)\n",
    "print(\"x < y:\", x < y)\n",
    "print(\"x != y:\", x != y)\n",
    "print(\"x >= y:\", x >= y)\n",
    "print(\"x <= y:\", x <= y)"
   ]
  },
  {
   "cell_type": "markdown",
   "id": "24523f2e",
   "metadata": {},
   "source": [
    "##### 4- Logical Operators"
   ]
  },
  {
   "cell_type": "markdown",
   "id": "f2d93199",
   "metadata": {},
   "source": [
    "Logical operations \n",
    "\n",
    "and --> combine condition and return TRUE if all are true.\n",
    "or  --> return TRUE id at least one condition is true.\n",
    "not --> Inverts the boolen value.\n",
    "\n",
    "\n",
    "| Operator | Description                           | Example              |\n",
    "|----------|---------------------------------------|----------------------|\n",
    "| `and`    | Returns True if **both** conditions are True | `x > 3 and x < 10`   |\n",
    "| `or`     | Returns True if **at least one** condition is True | `x > 10 or x == 5`   |\n",
    "| `not`    | Reverses the result (True becomes False) | `not(x > 5)`         |"
   ]
  },
  {
   "cell_type": "code",
   "execution_count": 15,
   "id": "76a95dec",
   "metadata": {},
   "outputs": [
    {
     "name": "stdout",
     "output_type": "stream",
     "text": [
      "a and b: False\n",
      "a or b: True\n",
      "not a: False\n"
     ]
    }
   ],
   "source": [
    "a = True\n",
    "b = False \n",
    "print(\"a and b:\", a and b)\n",
    "print(\"a or b:\", a or b)\n",
    "print(\"not a:\", not a)"
   ]
  },
  {
   "cell_type": "markdown",
   "id": "45ea69a4",
   "metadata": {},
   "source": [
    "##### 5- Identity Operators"
   ]
  },
  {
   "cell_type": "markdown",
   "id": "55a548ed",
   "metadata": {},
   "source": [
    "Compare the Objects, not if they are actually the same object, with the same memory location.\n",
    "\n",
    "| Operator | Description                                          | Example                |\n",
    "|----------|------------------------------------------------------|------------------------|\n",
    "| `is`     | Returns True if both variables point to the same object (same memory location) | `a is b`              |\n",
    "| `is not` | Returns True if both variables do **not** point to the same object | `a is not b`          |\n"
   ]
  },
  {
   "cell_type": "code",
   "execution_count": 21,
   "id": "3ef277c2",
   "metadata": {},
   "outputs": [
    {
     "name": "stdout",
     "output_type": "stream",
     "text": [
      "True\n",
      "False\n"
     ]
    }
   ],
   "source": [
    "a = [1, 2, 3]\n",
    "b = a  # b points to the same object as a\n",
    "\n",
    "print(a is b)       # True\n",
    "print(a is not b)   # False"
   ]
  },
  {
   "cell_type": "markdown",
   "id": "997dbd83",
   "metadata": {},
   "source": [
    "##### Membership Operator\n",
    "\n",
    "Membership operators are used to check if something is inside or not inside a list, string, set or group of values. "
   ]
  },
  {
   "cell_type": "markdown",
   "id": "f45b015f",
   "metadata": {},
   "source": [
    "| Operator | Description                     | Example            |\n",
    "|----------|---------------------------------|--------------------|\n",
    "| `in`     | Returns True if a value exists  | `'a' in 'apple'`   |\n",
    "| `not in` | Returns True if value doesn't exist | `3 not in [1, 2, 3]` |"
   ]
  },
  {
   "cell_type": "code",
   "execution_count": 22,
   "id": "0e5ae1f6",
   "metadata": {},
   "outputs": [
    {
     "name": "stdout",
     "output_type": "stream",
     "text": [
      "True\n",
      "True\n",
      "True\n",
      "True\n",
      "True\n",
      "False\n"
     ]
    }
   ],
   "source": [
    "# String example\n",
    "print('a' in 'apple')      # True\n",
    "print('z' not in 'apple')  # True\n",
    "\n",
    "# List example\n",
    "fruits = ['apple', 'banana', 'mango']\n",
    "print('banana' in fruits)      # True\n",
    "print('grape' not in fruits)   # True\n",
    "\n",
    "# Set example\n",
    "colors = {'red', 'blue', 'green'}\n",
    "print('red' in colors)     # True\n",
    "print('yellow' in colors)  # False"
   ]
  }
 ],
 "metadata": {
  "kernelspec": {
   "display_name": "Python 3 (ipykernel)",
   "language": "python",
   "name": "python3"
  },
  "language_info": {
   "codemirror_mode": {
    "name": "ipython",
    "version": 3
   },
   "file_extension": ".py",
   "mimetype": "text/x-python",
   "name": "python",
   "nbconvert_exporter": "python",
   "pygments_lexer": "ipython3",
   "version": "3.11.7"
  }
 },
 "nbformat": 4,
 "nbformat_minor": 5
}
